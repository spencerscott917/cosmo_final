{
 "cells": [
  {
   "cell_type": "code",
   "execution_count": 1,
   "metadata": {},
   "outputs": [],
   "source": [
    "from astropy.io import fits\n",
    "%matplotlib inline\n",
    "import matplotlib.pyplot as plt\n",
    "import numpy as np\n",
    "plt.rcParams['figure.figsize'] = 10,6"
   ]
  },
  {
   "cell_type": "code",
   "execution_count": 2,
   "metadata": {},
   "outputs": [],
   "source": [
    "# dat = fits.getdata('/home/spencerscott/classes/cosmo/final_proj/data/IN_PAPER/GGL003400-094434_1/GGL003400-0944.fits',ext=0)\n",
    "dat = fits.open('/home/spencerscott/classes/cosmo/final_proj/data/IN_PAPER/GGL020928-100653_1/GGL020928-1007.fits')"
   ]
  },
  {
   "cell_type": "code",
   "execution_count": 3,
   "metadata": {},
   "outputs": [
    {
     "name": "stdout",
     "output_type": "stream",
     "text": [
      "Filename: /home/spencerscott/classes/cosmo/final_proj/data/IN_PAPER/GGL020928-100653_1/GGL020928-1007.fits\n",
      "No.    Name      Ver    Type      Cards   Dimensions   Format\n",
      "  0  PRIMARY       1 PrimaryHDU      44   (38, 25)   float64   \n",
      "  1                1 ImageHDU         7   (38, 25)   float64   \n",
      "  2                1 ImageHDU         7   (38, 25)   float64   \n",
      "  3                1 ImageHDU         7   (38, 25)   float64   \n",
      "  4                1 ImageHDU         8   (4842, 38, 25)   float64   \n",
      "  5                1 ImageHDU         8   (4842, 38, 25)   float64   \n",
      "  6                1 ImageHDU         6   (4842,)   float64   \n",
      "  7                1 ImageHDU         8   (4842, 38, 25)   float64   \n",
      "  8                1 ImageHDU       243   (3326, 38, 25)   float64   \n",
      "  9                1 ImageHDU         8   (3326, 38, 25)   float64   \n",
      " 10                1 ImageHDU       243   (2842, 38, 25)   float64   \n",
      " 11                1 ImageHDU         8   (2842, 38, 25)   float64   \n",
      " 12                1 ImageHDU         6   (3326,)   float64   \n",
      " 13                1 ImageHDU         6   (2842,)   float64   \n",
      " 14                1 ImageHDU         7   (3326, 950)   float64   \n"
     ]
    }
   ],
   "source": [
    "fits.info('/home/spencerscott/classes/cosmo/final_proj/data/IN_PAPER/GGL020928-100653_1/GGL020928-1007.fits')"
   ]
  },
  {
   "cell_type": "code",
   "execution_count": 4,
   "metadata": {},
   "outputs": [
    {
     "data": {
      "text/plain": [
       "SIMPLE  =                    T                                                  \n",
       "BITPIX  =                  -64 / array data type                                \n",
       "NAXIS   =                    2 / number of array dimensions                     \n",
       "NAXIS1  =                   38                                                  \n",
       "NAXIS2  =                   25                                                  \n",
       "EXTEND  =                    T                                                  \n",
       "SYS_ID  = 'GGL020928-100653'   / systemid                                       \n",
       "T_ID_S  = 'S020928-100654'     / targetid_source                                \n",
       "RA_S    = '32.367435455322300' / ra_source                                      \n",
       "DEC_S   = '-10.114879608154300' / dec_source                                    \n",
       "Z_S     = '0.08569219708442690' / z_source                                      \n",
       "HSID_S  = '536261  '           / hsid_source                                    \n",
       "ZREF_S  = '4       '           / zref_source                                    \n",
       "T_ID_L  = 'L020925-100809'     / targetid_lens                                  \n",
       "RA_L    = '32.352500915527300' / ra_lens                                        \n",
       "DEC_L   = '-10.13586139678960' / dec_lens                                       \n",
       "Z_L     = '0.013926300220191500' / z_lens                                       \n",
       "HSID_L  = '3801806 '           / hsid_lens                                      \n",
       "ZREF_L  = '6       '           / zref_lens                                      \n",
       "LMS_L   = '10.9289309451'      / logmstar_lens                                  \n",
       "LMS_S   = '10.286039352417000' / logmstar_source                                \n",
       "SEP_D   = '1.5371977919294100' / separation_arcmin                              \n",
       "IMPCT   = '26.220494818354800' / impact_kpc                                     \n",
       "LHAL_L  = '12.6351267572'      / logmhalo_lens                                  \n",
       "GAM_P   = '0.00426156548239'   / shear predicted                                \n",
       "DETLA   = '0.6112110150203054' / detector lensing angle in rads                 \n",
       "RAC     = '22.93069199196352'  / ra centre from fit                             \n",
       "DECC    = '5.647624901723555'  / dec centre from fit                            \n",
       "THET    = '-1.768253355431781' / theta from fit in rads                         \n",
       "INC     = '-0.24759194091068124' / inclination from fit in rads                 \n",
       "V_AS    = '140.00541884023355' / asymptotic velocity of galaxy from fit         \n",
       "R_T     = '0.7801730121924154' / velocity scale radius from fit                 \n",
       "V_SY    = '25777.363089906845' / systemic velocity of galaxy from fit           \n",
       "GAMM    = '0.020474784574897608' / shear from fit                               \n",
       "PW      = '0.050655966860395196' / probability of outliers                      \n",
       "RAC_U   = '0.09337851873760178' / uncert ra centre from fit                     \n",
       "DECC_U  = '0.039548260427046476' / uncert dec centre from fit                   \n",
       "THET_U  = '0.022076160053075437' / uncert theta from fit in rads                \n",
       "INC_U   = '0.09687045950809783' / uncert inclination from fit in rads           \n",
       "V_AS_U  = '1.8945470072368826' / uncert asymptotic velocity of galaxy from fit  \n",
       "R_T_U   = '0.13644492659773674' / uncert velocity scale radius from fit         \n",
       "V_SY_U  = '0.9720424823523354' / uncert systemic velocity of galaxy from fit    \n",
       "GAMM_U  = '0.03338650309011321' / uncert shear from fit                         \n",
       "PW_U    = '0.031055318948871626' / uncert probability of outliers               "
      ]
     },
     "execution_count": 4,
     "metadata": {},
     "output_type": "execute_result"
    }
   ],
   "source": [
    "dat[0].header"
   ]
  },
  {
   "cell_type": "markdown",
   "metadata": {},
   "source": [
    "Is detla what the paper calls phi? \n",
    "\n",
    "No, it is what the paper calls delta..."
   ]
  },
  {
   "cell_type": "code",
   "execution_count": 5,
   "metadata": {
    "scrolled": false
   },
   "outputs": [],
   "source": [
    "im = dat[0].data"
   ]
  },
  {
   "cell_type": "code",
   "execution_count": 6,
   "metadata": {},
   "outputs": [
    {
     "data": {
      "text/plain": [
       "(25, 38)"
      ]
     },
     "execution_count": 6,
     "metadata": {},
     "output_type": "execute_result"
    }
   ],
   "source": [
    "im.shape"
   ]
  },
  {
   "cell_type": "code",
   "execution_count": 7,
   "metadata": {},
   "outputs": [
    {
     "data": {
      "image/png": "[encoded data removed]",
      "text/plain": [
       "<Figure size 720x432 with 2 Axes>"
      ]
     },
     "metadata": {
      "needs_background": "light"
     },
     "output_type": "display_data"
    }
   ],
   "source": [
    "# im[im > 50] = np.nan\n",
    "# plt.imshow(im.T[::-1],cmap='RdBu')\n",
    "plt.imshow(im.T[::-1]-float(dat[0].header['V_SY']),cmap='RdBu',\n",
    "           vmin=-float(dat[0].header['V_AS']), vmax=float(dat[0].header['V_AS']))\n",
    "plt.axhline(float(dat[0].header['RAC']))\n",
    "plt.axvline(float(dat[0].header['DECC']))\n",
    "plt.colorbar()\n",
    "plt.show()"
   ]
  },
  {
   "cell_type": "code",
   "execution_count": null,
   "metadata": {},
   "outputs": [],
   "source": [
    "#TODO: make sure angle units work\n",
    "\n",
    "def R(theta):\n",
    "    \"\"\"R in eqn 8\"\"\"\n",
    "    costh = np.cos(theta)\n",
    "    sinth = np.sin(theta)\n",
    "    return np.array([[costh, -sinth],[sinth, costh]])\n",
    "\n",
    "def I(i):\n",
    "    \"\"\"I in eqn 8\"\"\"\n",
    "    return np.array([[1,0],[0, np.sin(i)]])\n",
    "\n",
    "def Aprime(gamma, delta):\n",
    "    \"\"\"A' in equation 9, with kappa set to 0 as per the last paragraph on that page\"\"\"\n",
    "    twodelt = 2 * delta\n",
    "    gamcos2delt = gamma * np.cos(twodelt) \n",
    "    gamsin2delt = gamma * np.sin(twodelt)\n",
    "    return np.array([[1 - gamcos2delt, -gamsin2delt],[-gamsin2delt, 1 + gamcos2delt]])\n",
    "\n",
    "def gal_V(vmax, rt):\n",
    "    \"\"\"V(x,y) in galactocentric coordinates in eqn 6\"\"\""
   ]
  }
 ],
 "metadata": {
  "kernelspec": {
   "display_name": "Python 3",
   "language": "python",
   "name": "python3"
  },
  "language_info": {
   "codemirror_mode": {
    "name": "ipython",
    "version": 3
   },
   "file_extension": ".py",
   "mimetype": "text/x-python",
   "name": "python",
   "nbconvert_exporter": "python",
   "pygments_lexer": "ipython3",
   "version": "3.7.7"
  }
 },
 "nbformat": 4,
 "nbformat_minor": 4
}
